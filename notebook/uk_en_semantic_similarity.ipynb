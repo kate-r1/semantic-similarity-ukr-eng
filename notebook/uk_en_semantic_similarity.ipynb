{
 "cells": [
  {
   "cell_type": "code",
   "execution_count": 22,
   "metadata": {},
   "outputs": [],
   "source": [
    "import math\n",
    "import random\n",
    "from sentence_transformers import SentenceTransformer, InputExample, losses\n",
    "from sentence_transformers.evaluation import EmbeddingSimilarityEvaluator, SimilarityFunction\n",
    "import datasets\n",
    "import torch\n",
    "from torch.utils.data import DataLoader"
   ]
  },
  {
   "cell_type": "code",
   "execution_count": 23,
   "metadata": {},
   "outputs": [],
   "source": [
    "batch_size = 8\n",
    "num_epochs = 4\n",
    "model_save_path = './ftmodel'"
   ]
  },
  {
   "cell_type": "code",
   "execution_count": 24,
   "metadata": {},
   "outputs": [],
   "source": [
    "device = torch.device('cuda') if torch.cuda.is_available() else torch.device('cpu')"
   ]
  },
  {
   "cell_type": "code",
   "execution_count": 25,
   "metadata": {},
   "outputs": [],
   "source": [
    "model = SentenceTransformer('sentence-transformers/distiluse-base-multilingual-cased-v2')"
   ]
  },
  {
   "cell_type": "code",
   "execution_count": 26,
   "metadata": {},
   "outputs": [],
   "source": [
    "def get_uk_data(data):\n",
    "    rand_sen1 = data['sourceString']\n",
    "    random.shuffle(rand_sen1)\n",
    "\n",
    "    rand_sen2 = data['targetString']\n",
    "    random.shuffle(rand_sen2)\n",
    "\n",
    "    score1 = []\n",
    "    \n",
    "    for i in range(len(rand_sen1)):\n",
    "        if (rand_sen1[i]==rand_sen2[i]):\n",
    "            score1.append(1.0)\n",
    "        else:\n",
    "            score1.append(0.0)\n",
    "\n",
    "    orig_sen1 = data['sourceString']\n",
    "    orig_sen2 = data['targetString']\n",
    "    score2 = [1.0] * len(orig_sen1)\n",
    "\n",
    "    sentence1 = orig_sen1 + rand_sen1\n",
    "    sentence2 = orig_sen2 + rand_sen2\n",
    "    similarity_score = score2 + score1\n",
    "\n",
    "    return sentence1, sentence2, similarity_score\n"
   ]
  },
  {
   "cell_type": "code",
   "execution_count": 27,
   "metadata": {},
   "outputs": [],
   "source": [
    "def get_samples(sen1, sen2, score):\n",
    "    samples = []\n",
    "    \n",
    "    for i in range(len(sen1)):\n",
    "        samples.append(InputExample(texts=[sen1[i], sen2[i]], label=score[i]))\n",
    "    \n",
    "    return samples"
   ]
  },
  {
   "cell_type": "markdown",
   "metadata": {},
   "source": [
    "English Dataset"
   ]
  },
  {
   "cell_type": "code",
   "execution_count": 28,
   "metadata": {},
   "outputs": [
    {
     "name": "stderr",
     "output_type": "stream",
     "text": [
      "Found cached dataset stsb_multi_mt (/home/krichards/.cache/huggingface/datasets/stsb_multi_mt/en/1.0.0/a5d260e4b7aa82d1ab7379523a005a366d9b124c76a5a5cf0c4c5365458b0ba9)\n",
      "100%|██████████| 3/3 [00:00<00:00, 322.10it/s]\n"
     ]
    }
   ],
   "source": [
    "en_dataset = datasets.load_dataset(\"stsb_multi_mt\", \"en\")"
   ]
  },
  {
   "cell_type": "code",
   "execution_count": 29,
   "metadata": {},
   "outputs": [],
   "source": [
    "en_scores = [x / 5.0 for x in en_dataset['test']['similarity_score']]\n",
    "en_samples = get_samples(en_dataset['test']['sentence1'], en_dataset['test']['sentence2'], en_scores)"
   ]
  },
  {
   "cell_type": "markdown",
   "metadata": {},
   "source": [
    "Ukrainian Dataset"
   ]
  },
  {
   "cell_type": "code",
   "execution_count": 30,
   "metadata": {},
   "outputs": [
    {
     "name": "stderr",
     "output_type": "stream",
     "text": [
      "Found cached dataset tatoeba_mt (/home/krichards/.cache/huggingface/datasets/Helsinki-NLP___tatoeba_mt/ukr-ukr/0.0.0/01e819f3f64a772a2ca70949061d295d3a2dc99d05183fe4776a3be23f75f619)\n"
     ]
    }
   ],
   "source": [
    "uk_dataset = datasets.load_dataset(\"Helsinki-NLP/tatoeba_mt\", \"ukr-ukr\", split='test')"
   ]
  },
  {
   "cell_type": "code",
   "execution_count": 31,
   "metadata": {},
   "outputs": [],
   "source": [
    "uk_dataset = uk_dataset.train_test_split(test_size=0.2)\n",
    "\n",
    "uk_train = uk_dataset['train']\n",
    "\n",
    "uk_test = uk_dataset['test']\n",
    "uk_test = uk_test.train_test_split(test_size=0.5)\n",
    "\n",
    "uk_val = uk_test['train']\n",
    "uk_test = uk_test['test']"
   ]
  },
  {
   "cell_type": "code",
   "execution_count": 32,
   "metadata": {},
   "outputs": [],
   "source": [
    "train_sen1, train_sen2, train_score = get_uk_data(uk_train)\n",
    "val_sen1, val_sen2, val_score = get_uk_data(uk_val)\n",
    "test_sen1, test_sen2, test_score = get_uk_data(uk_test)"
   ]
  },
  {
   "cell_type": "code",
   "execution_count": 33,
   "metadata": {},
   "outputs": [],
   "source": [
    "train_samples = get_samples(train_sen1, train_sen2, train_score)\n",
    "val_samples = get_samples(val_sen1, val_sen2, val_score)\n",
    "test_samples = get_samples(test_sen1, test_sen2, test_score)"
   ]
  },
  {
   "cell_type": "markdown",
   "metadata": {},
   "source": [
    "Initial Evaluation"
   ]
  },
  {
   "cell_type": "code",
   "execution_count": 34,
   "metadata": {},
   "outputs": [
    {
     "name": "stderr",
     "output_type": "stream",
     "text": [
      "Batches: 100%|██████████| 21/21 [00:07<00:00,  2.70it/s]\n",
      "Batches: 100%|██████████| 21/21 [00:07<00:00,  2.79it/s]\n"
     ]
    }
   ],
   "source": [
    "uk_test_eval1 = EmbeddingSimilarityEvaluator.from_input_examples(test_samples, batch_size=batch_size, name='uk-test1', show_progress_bar=True, main_similarity=SimilarityFunction.COSINE)\n",
    "uk_eval1 = uk_test_eval1(model, output_path=model_save_path)"
   ]
  },
  {
   "cell_type": "code",
   "execution_count": 35,
   "metadata": {},
   "outputs": [
    {
     "name": "stderr",
     "output_type": "stream",
     "text": [
      "Batches: 100%|██████████| 173/173 [01:27<00:00,  1.97it/s]\n",
      "Batches: 100%|██████████| 173/173 [01:28<00:00,  1.95it/s]\n"
     ]
    }
   ],
   "source": [
    "en_test_eval1 = EmbeddingSimilarityEvaluator.from_input_examples(en_samples, batch_size=batch_size, name='en-test1', show_progress_bar=True, main_similarity=SimilarityFunction.COSINE)\n",
    "en_eval1 = en_test_eval1(model, output_path=model_save_path)"
   ]
  },
  {
   "cell_type": "markdown",
   "metadata": {},
   "source": [
    "Fine Tune on Ukrainian"
   ]
  },
  {
   "cell_type": "code",
   "execution_count": 36,
   "metadata": {},
   "outputs": [],
   "source": [
    "train_dataloader = DataLoader(train_samples, shuffle=False, batch_size=batch_size)"
   ]
  },
  {
   "cell_type": "code",
   "execution_count": 37,
   "metadata": {},
   "outputs": [],
   "source": [
    "train_loss = losses.CosineSimilarityLoss(model=model)\n",
    "\n",
    "evaluator = EmbeddingSimilarityEvaluator.from_input_examples(val_samples, name='uk-val', main_similarity=SimilarityFunction.COSINE)\n",
    "\n",
    "warmup_steps = math.ceil(len(train_dataloader) * num_epochs * 0.1) #10% of train data for warm-up"
   ]
  },
  {
   "cell_type": "code",
   "execution_count": 38,
   "metadata": {},
   "outputs": [
    {
     "name": "stderr",
     "output_type": "stream",
     "text": [
      "Iteration: 100%|██████████| 165/165 [10:34<00:00,  3.85s/it]\n",
      "Iteration: 100%|██████████| 165/165 [08:22<00:00,  3.05s/it]\n",
      "Iteration: 100%|██████████| 165/165 [06:33<00:00,  2.38s/it]\n",
      "Iteration: 100%|██████████| 165/165 [06:30<00:00,  2.37s/it]\n",
      "Epoch: 100%|██████████| 4/4 [32:51<00:00, 492.88s/it]\n"
     ]
    }
   ],
   "source": [
    "model.fit(train_objectives=[(train_dataloader, train_loss)],\n",
    "          evaluator=evaluator,\n",
    "          epochs=num_epochs,\n",
    "          evaluation_steps=1000,\n",
    "          warmup_steps=warmup_steps,\n",
    "          output_path=model_save_path,\n",
    "          show_progress_bar = True\n",
    "          )"
   ]
  },
  {
   "cell_type": "code",
   "execution_count": 39,
   "metadata": {},
   "outputs": [],
   "source": [
    "model = SentenceTransformer(model_save_path)"
   ]
  },
  {
   "cell_type": "markdown",
   "metadata": {},
   "source": [
    "Final Evaluation"
   ]
  },
  {
   "cell_type": "code",
   "execution_count": 40,
   "metadata": {},
   "outputs": [
    {
     "name": "stderr",
     "output_type": "stream",
     "text": [
      "Batches: 100%|██████████| 21/21 [00:04<00:00,  5.04it/s]\n",
      "Batches: 100%|██████████| 21/21 [00:04<00:00,  5.19it/s]\n"
     ]
    }
   ],
   "source": [
    "uk_test_eval2 = EmbeddingSimilarityEvaluator.from_input_examples(test_samples, batch_size=batch_size, name='uk-test2', show_progress_bar=True, main_similarity=SimilarityFunction.COSINE)\n",
    "uk_eval2 = uk_test_eval2(model, output_path=model_save_path)"
   ]
  },
  {
   "cell_type": "code",
   "execution_count": 41,
   "metadata": {},
   "outputs": [
    {
     "name": "stderr",
     "output_type": "stream",
     "text": [
      "Batches: 100%|██████████| 173/173 [00:48<00:00,  3.58it/s]\n",
      "Batches: 100%|██████████| 173/173 [00:48<00:00,  3.56it/s]\n"
     ]
    }
   ],
   "source": [
    "en_test_eval2 = EmbeddingSimilarityEvaluator.from_input_examples(en_samples, batch_size=batch_size, name='en-test2', show_progress_bar=True, main_similarity=SimilarityFunction.COSINE)\n",
    "en_eval2 = en_test_eval2(model, output_path=model_save_path)"
   ]
  },
  {
   "cell_type": "markdown",
   "metadata": {},
   "source": [
    "Results"
   ]
  },
  {
   "cell_type": "code",
   "execution_count": 42,
   "metadata": {},
   "outputs": [
    {
     "name": "stdout",
     "output_type": "stream",
     "text": [
      "Initial Ukrainian Evaluation:  0.8655382636551608\n",
      "Final Ukrainian Evaluation:  0.8652868364180787\n",
      "Initial English Evaluation:  0.807547875467642\n",
      "Final English Evaluation:  0.7816900731421348\n"
     ]
    }
   ],
   "source": [
    "print('Initial Ukrainian Evaluation: ', uk_eval1)\n",
    "print('Final Ukrainian Evaluation: ', uk_eval2)\n",
    "\n",
    "print('Initial English Evaluation: ', en_eval1)\n",
    "print('Final English Evaluation: ', en_eval2)"
   ]
  }
 ],
 "metadata": {
  "kernelspec": {
   "display_name": "Python 3.7.10 64-bit",
   "language": "python",
   "name": "python3"
  },
  "language_info": {
   "codemirror_mode": {
    "name": "ipython",
    "version": 3
   },
   "file_extension": ".py",
   "mimetype": "text/x-python",
   "name": "python",
   "nbconvert_exporter": "python",
   "pygments_lexer": "ipython3",
   "version": "3.7.10"
  },
  "orig_nbformat": 4,
  "vscode": {
   "interpreter": {
    "hash": "916dbcbb3f70747c44a77c7bcd40155683ae19c65e1c03b4aa3499c5328201f1"
   }
  }
 },
 "nbformat": 4,
 "nbformat_minor": 2
}
